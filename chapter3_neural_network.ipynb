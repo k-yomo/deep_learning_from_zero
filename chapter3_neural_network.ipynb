{
 "cells": [
  {
   "cell_type": "markdown",
   "metadata": {},
   "source": [
    "## 3.1 パーセプトロンからニューラルネットワークへ\n",
    "\n",
    "**ニュートラルネットワークはパーセプトロンの発展系**\n"
   ]
  },
  {
   "cell_type": "code",
   "execution_count": 19,
   "metadata": {},
   "outputs": [
    {
     "name": "stdout",
     "output_type": "stream",
     "text": [
      "activation_func, in: 2,  out: 1\n"
     ]
    }
   ],
   "source": [
    "# 復習\n",
    "# ｂはバイアスと言われるもので、発火のしやすさをコントロールするもの。\n",
    "\n",
    "def perceptron(x1: int, x2: int) -> int: \n",
    "    b = -1\n",
    "    w1, w2 = 1, 1\n",
    "    result = b + w1*x1 + w2*x2\n",
    "    if(result > 0):\n",
    "        return 1\n",
    "    else: \n",
    "        return 0\n",
    "    \n",
    "\"\"\"\n",
    "活性化関数\n",
    "a = b+w1x1+w2x2\n",
    "となる、aがあったときh(a)を活性化関数と呼びh(a)の値によって出力が変わる。\n",
    "例えば、\n",
    "a= 2\n",
    "h(a)\n",
    "if(h(a) > 1):\n",
    "    return 1\n",
    "else:\n",
    "    return 0\n",
    "\"\"\"\n",
    "\n",
    "def activation_func(a: int) -> int:\n",
    "    if a > 1:\n",
    "        return 1\n",
    "    else:\n",
    "        return 0\n",
    "\n",
    "a = 2\n",
    "print(f\"activation_func, in: {a},  out: {activation_func(a)}\")\n",
    "\n",
    "# ※ちなみにこの本ではx1, x2などの重み付けされる前の変数のことを「ニューロン/ノード」と呼ぶ。"
   ]
  },
  {
   "cell_type": "markdown",
   "metadata": {},
   "source": [
    "## 3.2 活性化関数"
   ]
  },
  {
   "cell_type": "code",
   "execution_count": 41,
   "metadata": {
    "scrolled": true
   },
   "outputs": [
    {
     "name": "stdout",
     "output_type": "stream",
     "text": [
      "step, in: np.array([-0.1, 1.0, 2.0]), out: [0 1 1]\n",
      "\n"
     ]
    },
    {
     "data": {
      "image/png": "[encoded data removed]",
      "text/plain": [
       "<Figure size 432x288 with 1 Axes>"
      ]
     },
     "metadata": {
      "needs_background": "light"
     },
     "output_type": "display_data"
    },
    {
     "name": "stdout",
     "output_type": "stream",
     "text": [
      "sigmoid, in: np.array([-0.1, 1.0, 2.0]), out: [0.47502081 0.73105858 0.88079708]\n",
      "\n"
     ]
    },
    {
     "data": {
      "image/png": "[encoded data removed]",
      "text/plain": [
       "<Figure size 432x288 with 1 Axes>"
      ]
     },
     "metadata": {
      "needs_background": "light"
     },
     "output_type": "display_data"
    },
    {
     "name": "stdout",
     "output_type": "stream",
     "text": [
      "relu, in: np.array([-0.1, 1.0, 2.0]), out: [0. 1. 2.]\n",
      "\n"
     ]
    },
    {
     "data": {
      "image/png": "[encoded data removed]",
      "text/plain": [
       "<Figure size 432x288 with 1 Axes>"
      ]
     },
     "metadata": {
      "needs_background": "light"
     },
     "output_type": "display_data"
    }
   ],
   "source": [
    "import numpy as np\n",
    "from matplotlib import pyplot as plt\n",
    "%matplotlib inline\n",
    "\n",
    "# ステップ関数\n",
    "# - パーセプトロンで使われている活性化関数\n",
    "def step_function(x):\n",
    "    if(x > 0):\n",
    "        return 1\n",
    "    else:\n",
    "        return 0\n",
    "\n",
    "# Numpy配列に対応したステップ関数\n",
    "# np.array([-0.1, 1.0, 2.0])のような配列を渡すことが可能になる。\n",
    "def step(x):\n",
    "    return np.array(x > 0, dtype=np.int)\n",
    "\n",
    "print(f\"step, in: np.array([-0.1, 1.0, 2.0]), out: {step(np.array([-0.1, 1.0, 2.0]))}\\n\")\n",
    "x = np.arange(-5.0, 5.0, 0.1)\n",
    "y = step(x)\n",
    "plt.plot(x, y)\n",
    "plt.ylim(-0.1, 1.1) # y軸の範囲指定\n",
    "plt.show()\n",
    "\n",
    "\n",
    "# シグモイド関数\n",
    "# - 出力が滑らかなS字になる活性化関数\n",
    "def sigmoid(x):\n",
    "    return 1 / (1 + np.exp(-x))\n",
    "\n",
    "print(f\"sigmoid, in: np.array([-0.1, 1.0, 2.0]), out: {sigmoid(np.array([-0.1, 1.0, 2.0]))}\\n\")\n",
    "\n",
    "y = sigmoid(x)\n",
    "plt.plot(x, y)\n",
    "plt.show()\n",
    "\n",
    "# ReLU関数(最近よく使われる)\n",
    "def relu(x):\n",
    "    return np.maximum(0, x)\n",
    "\n",
    "print(f\"relu, in: np.array([-0.1, 1.0, 2.0]), out: {relu(np.array([-0.1, 1.0, 2.0]))}\\n\")\n",
    "\n",
    "y = relu(x)\n",
    "plt.plot(x, y)\n",
    "plt.show()\n",
    "\n",
    "# ・活性化関数は非線形関数である必要がある\n",
    "# 何故なら線形関数だと、隠れ層なしで同じ結果を表現できてしまうから。"
   ]
  },
  {
   "cell_type": "markdown",
   "metadata": {},
   "source": [
    "## 3.3 多次元配列の計算"
   ]
  },
  {
   "cell_type": "code",
   "execution_count": 50,
   "metadata": {},
   "outputs": [
    {
     "name": "stdout",
     "output_type": "stream",
     "text": [
      "dim: 2\n",
      "shape: (2, 2)\n",
      "product: [[ 3 -4]\n",
      " [ 5 -6]]\n"
     ]
    }
   ],
   "source": [
    "# 行列の定義\n",
    "a = np.array([[1, 2], [3, 4]])\n",
    "\n",
    "# 次元（下の場合 2)を返す\n",
    "print(f\"dim: {np.ndim(a)}\")\n",
    "\n",
    "\n",
    "# 要素数（次元）(下の場合、2個上で定義したaを処理しているので(2, 2))を返す\n",
    "print(f\"shape: {a.shape}\")\n",
    "\n",
    "# (二次元の場合「塊の個数、各塊の中にある要素の個数」となる）\n",
    "# ※ここは法則がややこしいのでP５５の下の方の例を要参照\n",
    "\n",
    "\n",
    "\n",
    "# 行列の積（仕組みは省略）\n",
    "# aの行列 * bの行列↓\n",
    "b = np.array([[-1, 2], [2, -3]])\n",
    "print(f\"dot: {np.dot(a, b)}\")\n",
    "\n",
    "# ニュートラルネットワークの行列の積\n",
    "# この行列を使うことで多くの掛け算の結果を一度に計算することができる。\n",
    "\n",
    "x = np.array([1, 2])\n",
    "x.shape"
   ]
  },
  {
   "cell_type": "markdown",
   "metadata": {},
   "source": [
    "## 3.4 3層ネットワークの実装"
   ]
  },
  {
   "cell_type": "markdown",
   "metadata": {},
   "source": [
    "### ネットワークを表すために使う記号(本節のみで使用)\n",
    "#### `重み: axy(z)`\n",
    "y層からx層へのz層のニューロンa\n",
    "\n",
    "\n",
    "e.g. w12(1)は前層の2番目のニューロンから次層1番目のニューロンへの第1層にある重み\n",
    "\n",
    "#### `ニューロン: ax(y)`\n",
    "aはy層、x番目のニューロン\n",
    "e.g. a2(1)は第1層2番目のニューロン\n"
   ]
  },
  {
   "cell_type": "code",
   "execution_count": 64,
   "metadata": {},
   "outputs": [
    {
     "name": "stdout",
     "output_type": "stream",
     "text": [
      "x.shape: (2,)\n",
      "w1.shape: (2, 3)\n",
      "b1.shape: (3,)\n",
      "a1(第1層重み付き和): [0.3 0.7 1.1]\n",
      "z1(第1層出力): [0.57444252 0.66818777 0.75026011]\n",
      "\n",
      "a2(第2層重み付き和): [0.51615984 1.21402696]\n",
      "z2(第2層出力): [0.62624937 0.7710107 ]\n",
      "\n",
      "最終出力: [0.31682708 0.69627909]\n"
     ]
    }
   ],
   "source": [
    "# 第1層目\n",
    "x = np.array([1.0, 0.5]) # 入力\n",
    "w1 = np.array([[0.1, 0.3, 0.5], [0.2, 0.4, 0.6]]) # 重み\n",
    "b1 = np.array([0.1, 0.2, 0.3]) # バイアス\n",
    "\n",
    "print(f\"x.shape: {x.shape}\")\n",
    "print(f\"w1.shape: {w1.shape}\")\n",
    "print(f\"b1.shape: {b1.shape}\")\n",
    "\n",
    "# 入力に重みをかけて、バイアスを足す\n",
    "a1 = np.dot(x, w1) + b1\n",
    "print(f\"a1(第1層重み付き和): {a1}\")\n",
    "\n",
    "# 活性化関数に入れて、出力を出す\n",
    "z1 = sigmoid(a1)\n",
    "print(f\"z1(第1層出力): {z1}\\n\")\n",
    "\n",
    "\n",
    "# 第2層目\n",
    "w2 = np.array([[0.1, 0.4], [0.2, 0.5], [0.3, 0.6]])\n",
    "b2 = np.array([0.1, 0.2])\n",
    "\n",
    "a2 = np.dot(z1, w2) + b2 # 第1層めの出力が入力になっている\n",
    "print(f\"a2(第2層重み付き和): {a2}\")\n",
    "\n",
    "z2 = sigmoid(a2)\n",
    "print(f\"z2(第2層出力): {z2}\\n\")\n",
    "\n",
    "# 出力層\n",
    "# 恒等関数: 入力をそのまま出力として返す\n",
    "\n",
    "# 出力層の活性化関数\n",
    "# - 回帰問題: 恒等関数\n",
    "# - 2クラス分類: シグモイド関数\n",
    "# - 多クラス分類: ソフトマックス関数\n",
    "def identity_func(x):\n",
    "    return x\n",
    "\n",
    "w3 = np.array([[0.1, 0.3], [0.2, 0.4]])\n",
    "b3 = np.array([0.1, 0.2])\n",
    "a3 = np.dot(z2, w3) + b3\n",
    "y = identity_func(a3) # 出力\n",
    "print(f\"最終出力: {a3}\")"
   ]
  },
  {
   "cell_type": "code",
   "execution_count": 114,
   "metadata": {
    "scrolled": false
   },
   "outputs": [
    {
     "name": "stdout",
     "output_type": "stream",
     "text": [
      "a1: [0.3 0.7 1.1]\n",
      "a2: [0.51615984 1.21402696]\n",
      "a3: [0.31682708 0.69627909]\n",
      "参考書実装の出力: [0.31682708 0.69627909]\n",
      "\n",
      "a0: [0.3 0.7 1.1]\n",
      "a1: [0.51615984 1.21402696]\n",
      "a2: [0.31682708 0.69627909]\n",
      "改良版の出力: [0.31682708 0.69627909]\n"
     ]
    }
   ],
   "source": [
    "def identity_func(x):\n",
    "    return x\n",
    "\n",
    "# 参考書の実装\n",
    "def init_network():\n",
    "    network = {}\n",
    "    network['w1'] = np.array([[0.1, 0.3, 0.5], [0.2, 0.4, 0.6]])\n",
    "    network['b1'] = np.array([0.1, 0.2, 0.3])\n",
    "    network['w2'] = np.array([[0.1, 0.4], [0.2, 0.5], [0.3, 0.6]])\n",
    "    network['b2'] = np.array([0.1, 0.2])\n",
    "    network['w3'] = np.array([[0.1, 0.3], [0.2, 0.4]])\n",
    "    network['b3'] = np.array([0.1, 0.2])\n",
    "    return network\n",
    "\n",
    "\n",
    "def forword(network, x):\n",
    "    w1, w2, w3 = network['w1'], network['w2'], network['w3']\n",
    "    b1, b2, b3 = network['b1'], network['b2'], network['b3']\n",
    "    \n",
    "    a1 = np.dot(x, w1) + b1\n",
    "    print(f\"a1: {a1}\")\n",
    "    z1 = sigmoid(a1)\n",
    "    a2 = np.dot(z1, w2) + b2\n",
    "    print(f\"a2: {a2}\")\n",
    "    z2 = sigmoid(a2)\n",
    "    a3 = np.dot(z2, w3) + b3\n",
    "    print(f\"a3: {a3}\")\n",
    "    y = identity_func(a3)\n",
    "    return y\n",
    "\n",
    "network = init_network()\n",
    "x =  np.array([1.0, 0.5])\n",
    "output = forword(network, x)\n",
    "print(f\"参考書実装の出力: {output}\\n\")\n",
    "\n",
    "# ちょっと改良\n",
    "def init_network2():\n",
    "    network = [\n",
    "        { 'w': np.array([[0.1, 0.3, 0.5], [0.2, 0.4, 0.6]]), 'b': np.array([0.1, 0.2, 0.3])},\n",
    "        { 'w': np.array([[0.1, 0.4], [0.2, 0.5], [0.3, 0.6]]), 'b': np.array([0.1, 0.2])},\n",
    "        { 'w': np.array([[0.1, 0.3], [0.2, 0.4]]), 'b': np.array([0.1, 0.2])}\n",
    "        \n",
    "    ]\n",
    "    return network\n",
    "\n",
    "def forword2(network, x):\n",
    "    cur_x = x\n",
    "    for i, layer in enumerate(network):\n",
    "        a = np.dot(cur_x, layer['w']) + layer['b']\n",
    "        print(f\"a{i}: {a}\")\n",
    "        if i == (len(network) - 1):\n",
    "            cur_x = identity_func(a)\n",
    "        else: \n",
    "            cur_x = sigmoid(a)\n",
    "    return cur_x\n",
    "\n",
    "network2 = init_network2()\n",
    "x = np.array([1.0, 0.5])\n",
    "output2 = forword2(network2, x)\n",
    "print(f\"改良版の出力: {output2}\")"
   ]
  },
  {
   "cell_type": "markdown",
   "metadata": {},
   "source": [
    "## 3.5 出力層の設計\n",
    "### `機械学習の種類`\n",
    "分類問題：あるデータからそれが男性か女性かを分類するもの\n",
    "回帰問題：人が写った画像からその人の体重を予測するもの\n",
    "### `恒等関数`\n",
    "変数を受け取って、なんの加工もしないで出力する関数\n",
    "### `ソフトマックス関数`\n",
    "分類問題に用いる関数。指数関数を扱う。分母はすべての入力信号の指数関数の和から構成される。つまり、入力されたデータを加工し、しかも複数の入力データを扱う。"
   ]
  },
  {
   "cell_type": "code",
   "execution_count": 7,
   "metadata": {},
   "outputs": [
    {
     "name": "stdout",
     "output_type": "stream",
     "text": [
      "[ 1.34985881 18.17414537 54.59815003]\n"
     ]
    }
   ],
   "source": [
    "import numpy as np\n",
    "a = np.array([0.3, 2.9, 4.0])\n",
    "\n",
    "exp_a = np.exp(a) #指数関数:e(ネイピア数)の「\"入力値\"乗」する。つまりeの0.3乗、eの2.9乗、eの4乗。\n",
    "print(exp_a)"
   ]
  },
  {
   "cell_type": "code",
   "execution_count": 8,
   "metadata": {},
   "outputs": [
    {
     "name": "stdout",
     "output_type": "stream",
     "text": [
      "74.1221542101633\n"
     ]
    }
   ],
   "source": [
    "sum_exp_a = np.sum(exp_a) #指数関数の和\n",
    "print(sum_exp_a)"
   ]
  },
  {
   "cell_type": "code",
   "execution_count": 14,
   "metadata": {},
   "outputs": [
    {
     "name": "stdout",
     "output_type": "stream",
     "text": [
      "[0.01821127 0.24519181 0.73659691]\n"
     ]
    }
   ],
   "source": [
    "y = exp_a / sum_exp_a #それぞれの指数関数が合計の何％占めているかの計算\n",
    "print(y)"
   ]
  },
  {
   "cell_type": "markdown",
   "metadata": {},
   "source": [
    "### `注意点`\n",
    "下のようにeの1000乗などとするとinfinityと出力されて数値が出てこない"
   ]
  },
  {
   "cell_type": "code",
   "execution_count": 15,
   "metadata": {
    "scrolled": false
   },
   "outputs": [
    {
     "name": "stdout",
     "output_type": "stream",
     "text": [
      "inf\n"
     ]
    },
    {
     "name": "stderr",
     "output_type": "stream",
     "text": [
      "/usr/local/lib/python3.6/dist-packages/ipykernel_launcher.py:1: RuntimeWarning: overflow encountered in exp\n",
      "  \"\"\"Entry point for launching an IPython kernel.\n"
     ]
    }
   ],
   "source": [
    "print(np.exp(1000))"
   ]
  },
  {
   "cell_type": "markdown",
   "metadata": {},
   "source": [
    "### `logという回避方法`\n",
    "$$e ^{1000} $$は$$\\log_e {1000} = 1000 $$ となり限られた文字数で表現できるようになる。"
   ]
  },
  {
   "cell_type": "code",
   "execution_count": 19,
   "metadata": {},
   "outputs": [
    {
     "name": "stderr",
     "output_type": "stream",
     "text": [
      "/usr/local/lib/python3.6/dist-packages/ipykernel_launcher.py:2: RuntimeWarning: overflow encountered in exp\n",
      "  \n",
      "/usr/local/lib/python3.6/dist-packages/ipykernel_launcher.py:2: RuntimeWarning: invalid value encountered in true_divide\n",
      "  \n"
     ]
    },
    {
     "data": {
      "text/plain": [
       "array([nan, nan, nan])"
      ]
     },
     "execution_count": 19,
     "metadata": {},
     "output_type": "execute_result"
    }
   ],
   "source": [
    "a = np.array([1010, 1000, 990])\n",
    "np.exp(a)/np.sum(np.exp(a)) #ソフトマックス関数の計算\n",
    "\n",
    "#この計算だと、桁が大きすぎてエラーになる"
   ]
  },
  {
   "cell_type": "code",
   "execution_count": 20,
   "metadata": {},
   "outputs": [
    {
     "data": {
      "text/plain": [
       "array([  0, -10, -20])"
      ]
     },
     "execution_count": 20,
     "metadata": {},
     "output_type": "execute_result"
    }
   ],
   "source": [
    "c = np.max(a) #maxは配列から最大値を取り出す\n",
    "a-c"
   ]
  },
  {
   "cell_type": "code",
   "execution_count": 35,
   "metadata": {},
   "outputs": [
    {
     "data": {
      "text/plain": [
       "array([9.99954600e-01, 4.53978686e-05, 2.06106005e-09])"
      ]
     },
     "execution_count": 35,
     "metadata": {},
     "output_type": "execute_result"
    }
   ],
   "source": [
    "np.exp(a-c)/np.sum(np.exp(a-c))#この計算が一体何を意味するのかは不明"
   ]
  },
  {
   "cell_type": "markdown",
   "metadata": {},
   "source": [
    "下で実装する"
   ]
  },
  {
   "cell_type": "code",
   "execution_count": 34,
   "metadata": {},
   "outputs": [
    {
     "name": "stdout",
     "output_type": "stream",
     "text": [
      "[9.99954600e-01 4.53978686e-05 2.06106005e-09]\n"
     ]
    }
   ],
   "source": [
    "def softmax(a):\n",
    "    c = np.max(a)\n",
    "    exp_a = np.exp(a-c)#桁が大きすぎても計算できるための工夫\n",
    "    sum_exp_a = np.sum(exp_a)\n",
    "    y = exp_a/ sum_exp_a\n",
    "    return y\n",
    "print(softmax(a))"
   ]
  },
  {
   "cell_type": "markdown",
   "metadata": {},
   "source": [
    "## ソフトマックス関数のニューラルネットワークへの応用例"
   ]
  },
  {
   "cell_type": "code",
   "execution_count": 38,
   "metadata": {},
   "outputs": [
    {
     "name": "stdout",
     "output_type": "stream",
     "text": [
      "[0.01821127 0.24519181 0.73659691]\n"
     ]
    }
   ],
   "source": [
    "a = np.array([0.3, 2.9, 4.0])\n",
    "y = softmax(a)\n",
    "print(y) #ソフトマックス関数の説明で出てきた計算の実装例\n"
   ]
  },
  {
   "cell_type": "code",
   "execution_count": 41,
   "metadata": {},
   "outputs": [
    {
     "data": {
      "text/plain": [
       "1.0"
      ]
     },
     "execution_count": 41,
     "metadata": {},
     "output_type": "execute_result"
    }
   ],
   "source": [
    "np.sum(y)"
   ]
  },
  {
   "cell_type": "markdown",
   "metadata": {},
   "source": [
    "このことが意味するのはニューラルネットワークにおいてソフトマックス関数の出力の総和は１になること。**つまりこの出力を確率として扱うことができるようになる。**加工したとしても大小関係は変わらないのも特徴（※これは、expが単調増加することに起因する）。それ故、「分類問題」のときに有用。\n",
    "また、出力層のニューロンの数（何個に分類するのか）は適宜決める必要ある。"
   ]
  },
  {
   "cell_type": "markdown",
   "metadata": {},
   "source": [
    "## 3.6 手書き数字認識\n",
    "\n",
    "ここではMNISTデータセットと学習済みのパラメータを使ってニューラルネットワークの「推論処理」だけを実装する。\n",
    "\n",
    "### `MINISTとは`\n",
    "手書き数字の画像セット\n",
    "\n"
   ]
  },
  {
   "cell_type": "code",
   "execution_count": 35,
   "metadata": {},
   "outputs": [
    {
     "name": "stdout",
     "output_type": "stream",
     "text": [
      "dataset downloaded: (60000, 784)\n",
      "Sample image: 5\n"
     ]
    },
    {
     "data": {
      "image/png": "[encoded data removed]",
      "text/plain": [
       "<Figure size 432x288 with 1 Axes>"
      ]
     },
     "metadata": {
      "needs_background": "light"
     },
     "output_type": "display_data"
    }
   ],
   "source": [
    "import sys, os\n",
    "sys.path.append(os.pardir)\n",
    "import numpy as np\n",
    "import matplotlib.pyplot as plt\n",
    "from PIL import Image\n",
    "from dataset.mnist import load_mnist\n",
    "%matplotlib inline\n",
    "\n",
    "def img_show(img):\n",
    "    # Numpyとして格納された画像データをデータオブジェクトに変換\n",
    "    pil_img = Image.fromarray(np.uint8(img))\n",
    "    plt.imshow(pil_img)\n",
    "\n",
    "(x_train, t_train), (x_test, t_test) = load_mnist(flatten=True, normalize=False)\n",
    "\n",
    "print(f\"dataset downloaded: {x_train.shape}\")\n",
    "\n",
    "img = x_train[0]\n",
    "label = t_train[0]\n",
    "print(f\"Sample image: {label}\")\n",
    "\n",
    "# load_mnistでflatten=Trueにしているので、1次元の画像となっている。\n",
    "# そのため、ここで28x28に戻す必要がある。\n",
    "img = img.reshape(28, 28) \n",
    "img_show(img)\n",
    "\n"
   ]
  },
  {
   "cell_type": "code",
   "execution_count": 36,
   "metadata": {},
   "outputs": [
    {
     "name": "stdout",
     "output_type": "stream",
     "text": [
      "Predicted Images: 10000, Accuracy: 0.9352\n"
     ]
    }
   ],
   "source": [
    "import pickle\n",
    "\n",
    "def sigmoid(x):\n",
    "    # np.exp(-x) == eの-x乗\n",
    "    return 1 / (1 + np.exp(-x))\n",
    "\n",
    "def softmax(a):\n",
    "    c = np.max(a)\n",
    "    exp_a = np.exp(a-c)#桁が大きすぎても計算できるための工夫\n",
    "    sum_exp_a = np.sum(exp_a)\n",
    "    y = exp_a/ sum_exp_a\n",
    "    return y\n",
    "\n",
    "def get_img_data():\n",
    "    # flatten=Trueは1次元の配列を返す(Falseだと1x28x28の3次元配列)\n",
    "    # normalize=Trueは画像を0.0~1.0に正規化する(Falseだと0~255)\n",
    "    (x_train, t_train), (x_test, t_test) = load_mnist(flatten=True, normalize=True)\n",
    "    return x_test, t_test\n",
    "\n",
    "def init_network():\n",
    "    with open('sample_weight.pkl', 'rb') as f:\n",
    "        network = pickle.load(f)\n",
    "    return network\n",
    "\n",
    "def predict(network, x):\n",
    "    w1, w2, w3 = network['W1'], network['W2'], network['W3']\n",
    "    b1, b2, b3 = network['b1'], network['b2'], network['b3']\n",
    "    \n",
    "    a1 = np.dot(x, w1) + b1\n",
    "    z1 = sigmoid(a1)\n",
    "    a2 = np.dot(z1, w2) + b2\n",
    "    z2 = sigmoid(a2)\n",
    "    a3 = np.dot(z2, w3) + b3\n",
    "    y = softmax(a3)\n",
    "    \n",
    "    return y\n",
    "\n",
    "# xが入力画像、tが答え(0~9)\n",
    "x, t = get_img_data()\n",
    "network = init_network()\n",
    "predicted_cnt = 0\n",
    "accuracy_cnt = 0\n",
    "for i in range(len(x)):\n",
    "    y = predict(network, x[i])\n",
    "    p = np.argmax(y) # 最も確率の高い要素のインデックスを取得\n",
    "    if p == t[i]:\n",
    "        accuracy_cnt += 1\n",
    "    predicted_cnt += 1\n",
    "        \n",
    "print(f\"Predicted Images: {predicted_cnt}, Accuracy: {float(accuracy_cnt) / len(x)}\")"
   ]
  },
  {
   "cell_type": "markdown",
   "metadata": {},
   "source": [
    "### 正規化と前処理\n",
    "\n",
    "#### `前処理`\n",
    "入力データを事前に変換しておくこと。識別性能の向上や学習の高速化などが図れる。\n",
    "\n",
    "#### `正規化`\n",
    "データをある決まった範囲に変換する処理。\n",
    "\n",
    "上記の手書き数字認識のデータを取得する`load_mnist`では、`normalize=True`を指定して、1-255ピクセルのデータを`0.0-1.0`の範囲に収まるように正規化する前処理を行なった。"
   ]
  },
  {
   "cell_type": "markdown",
   "metadata": {},
   "source": [
    "### バッチ処理による実装\n",
    "さっきは`for文`で画像を1枚ずつ入力データを回したが、一度に100枚の画像を入れたほうが計算速度が速くなる。(計算ライブラリは大きな配列の計算を効率よく処理できるよう最適化されているため。)。\n",
    "\n",
    "このひとまとまりの入力データを`バッチ`と呼び、一度に複数のデータを処理することを`バッチ処理と呼ぶ。`"
   ]
  },
  {
   "cell_type": "code",
   "execution_count": 41,
   "metadata": {},
   "outputs": [
    {
     "name": "stdout",
     "output_type": "stream",
     "text": [
      "Predicted Images: 1, Accuracy: 0.9352\n"
     ]
    }
   ],
   "source": [
    "# バッチ処理による、手書き数字認識\n",
    "x, t = get_img_data()\n",
    "batch_size = 100\n",
    "predicted_cnt = 0\n",
    "accuracy_cnt = 0\n",
    "\n",
    "# batch_size毎にループを回す。0, 100, 200, ...len(x) - 100\n",
    "for i in range(0, len(x), batch_size):\n",
    "    # 配列xからバッチサイズ分取り出す。0-99, 100-200, ...(len(x) - 100)-(len(x) - 1)\n",
    "    x_batch = x[i:i+batch_size]\n",
    "    y_batch = predict(network, x_batch)\n",
    "    # axisは軸とする次元を指定する。(よく理解できていない)\n",
    "    # aixsの理解に役立つリンク: https://qiita.com/shuetsu@github/items/2bf8bba233c5ecc7a0ad\n",
    "    p = np.argmax(y_batch, axis=1)\n",
    "    accuracy_cnt += np.sum(p == t[i:i+batch_size])\n",
    "predicted_cnt += 1\n",
    "    \n",
    "print(f\"Predicted Images: {predicted_cnt}, Accuracy: {float(accuracy_cnt) / len(x)}\")"
   ]
  },
  {
   "cell_type": "code",
   "execution_count": null,
   "metadata": {},
   "outputs": [],
   "source": []
  }
 ],
 "metadata": {
  "kernelspec": {
   "display_name": "Python 3",
   "language": "python",
   "name": "python3"
  },
  "language_info": {
   "codemirror_mode": {
    "name": "ipython",
    "version": 3
   },
   "file_extension": ".py",
   "mimetype": "text/x-python",
   "name": "python",
   "nbconvert_exporter": "python",
   "pygments_lexer": "ipython3",
   "version": "3.7.0"
  }
 },
 "nbformat": 4,
 "nbformat_minor": 2
}

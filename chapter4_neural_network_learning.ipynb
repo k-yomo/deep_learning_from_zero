{
 "cells": [
  {
   "cell_type": "markdown",
   "metadata": {},
   "source": [
    "# `４章のテーマ`\n",
    "- 訓練データから最適な重みを自動で設定できるようにする。\n"
   ]
  },
  {
   "cell_type": "markdown",
   "metadata": {},
   "source": [
    "## 4.1 データから学習\n",
    "- 機械学習では、データ(今回はMNST画像)から特徴量を抽出して、その特徴量のパターンを学習(規則性)する。\n",
    "\n",
    "#### `特徴量とは`\n",
    "- 入力データから本質的なデータを的確に抽出できるように設計された変換器を指す。\n",
    "- 特徴量はベクトルとして記述される。\n",
    "- **ニューラルネットワークはデータに含まれる重要な特徴量までも「機械」が学習する。**\n",
    "- 例) 5という数字があったら、左上が角ばってて、下が逆c型になっていて、というような特徴量を機会ががくしゅ\n",
    "\n",
    "### 4.1.2 訓練データとテストデータ\n",
    "1. 機械学習では訓練(教師)データとテストデータを分ける。\n",
    "2. まず、訓練データで最適なパラメーターを探してモデルを作る\n",
    "3. テストデータでモデルの実力を評価する。\n",
    "\n",
    "↑で評価するのは`汎化能力`(どんなデータにも対応できる)。逆にあるデータに過度に適応した状態を`過学習`と呼ぶ。"
   ]
  },
  {
   "cell_type": "code",
   "execution_count": null,
   "metadata": {},
   "outputs": [],
   "source": []
  }
 ],
 "metadata": {
  "kernelspec": {
   "display_name": "Python 3",
   "language": "python",
   "name": "python3"
  },
  "language_info": {
   "codemirror_mode": {
    "name": "ipython",
    "version": 3
   },
   "file_extension": ".py",
   "mimetype": "text/x-python",
   "name": "python",
   "nbconvert_exporter": "python",
   "pygments_lexer": "ipython3",
   "version": "3.6.7"
  }
 },
 "nbformat": 4,
 "nbformat_minor": 2
}

{
 "cells": [
  {
   "cell_type": "markdown",
   "metadata": {},
   "source": [
    "## 2.1 パーセプトロンとは\n",
    "\n",
    "パーセプトロンは複数の信号を入力として受け取って、0か1を出力する。\n",
    "\n",
    "--- \n",
    "\n",
    "入力x * 重みa + 入力y * 重みb <= θ\n",
    "→0を出力する\n",
    "\n",
    "入力x * 重みa + 入力y * 重みb > θ\n",
    "→1を出力\n",
    "\n",
    "---\n",
    "\n",
    "- 各入力には重みを付けて、入力の重要性をコントロールする。後々にこの重みを自動で調整していく作業が機械学習という所感。\n",
    "\n",
    "- θは閾値。θを超える事を「ニューロンが発火する」と言う。"
   ]
  },
  {
   "cell_type": "markdown",
   "metadata": {},
   "source": [
    "## 2.2 単純な論理回路\n",
    "1. ANDゲート\n",
    "\n",
    "2入力1出力のゲートのこと 「変数」と「それぞれの重み付信号」の積が閾値θを超えるか超えないかを判断するもの\n",
    "\n",
    "---\n",
    "\n",
    "2. NAND(NOT AND)ゲートとORゲート\n",
    "\n",
    "NAND = ANDゲートの「重み」の符号を逆にしたもの。\n",
    "\n",
    "OR = 変数の値のうちどちらかの条件だけで判断するもの。\n",
    "\n",
    "---\n",
    "\n",
    "**ポイント：パーセプトロンのパラメータ（重み付の仕方と閾値θ）を設定するのも機械が行うことになる。言い換えれば、このパラメータを決めるのが「学習」。**"
   ]
  },
  {
   "cell_type": "markdown",
   "metadata": {},
   "source": [
    "## 2.3 パーセプロトロンの実装"
   ]
  },
  {
   "cell_type": "code",
   "execution_count": 15,
   "metadata": {},
   "outputs": [],
   "source": [
    "\n",
    "\n",
    "# pythonのみによるANDゲートのシンプルな実装\n",
    "def and_gate(x1, x2): # 入力\n",
    "    w1, w2 = 0.5, 0.5 # 重み\n",
    "    theta =  0.7      # 閾値\n",
    "    if w1*x1 + w2*x2 <= theta:\n",
    "        return 0\n",
    "    else:\n",
    "        return 1\n",
    "\n",
    "# numpyを使ったANDゲートの実装\n",
    "def and_gate(x1, x2):\n",
    "    x = np.array([x1, x2])\n",
    "    w = np.array([0.5, 0.5])\n",
    "    b = -0.7\n",
    "    if np.sum(w*x) + b <= 0:\n",
    "        return 0\n",
    "    else:\n",
    "        return 1\n",
    "\n",
    "\"\"\"\n",
    "今後のことを考えて、方程式をいじる。\n",
    "if w1*x1 + w2*x2 <= θ:\n",
    "   return 0\n",
    "↓\n",
    "前提: b(バイアス) < 0\n",
    "if b + w1*x1 + w2*x2 <= θ:\n",
    "   return 0\n",
    "\"\"\"\n",
    "\n",
    "# ※bの値がマイナス方面に大きければ大きいほど、バイアスが大きくなるので閾値は高くなる\n",
    "\n",
    "# NANDゲート(Not AND)\n",
    "def nand_gate(x1, x2):\n",
    "    x = np.array([x1, x2])\n",
    "    w = np.array([-0.5, -0.5])\n",
    "    b = -0.7\n",
    "    if np.sum(w*x) + b <= 0:\n",
    "        return 0\n",
    "    else:\n",
    "        return 1\n",
    "\n",
    "# ORゲート(ANDゲートの閾値バイアス弱め版)\n",
    "def nand_gate(x1, x2):\n",
    "    x = np.array([x1, x2])\n",
    "    w = np.array([0.5, 0.5])\n",
    "    b = -0.2\n",
    "    if np.sum(w*x) + b <= 0:\n",
    "        return 0\n",
    "    else:\n",
    "        return 1"
   ]
  },
  {
   "cell_type": "markdown",
   "metadata": {},
   "source": [
    "## 2.4 パーセプトロンの限界\n",
    "\n",
    "- XORゲート（排他的論理和）\n",
    "これまでのゲートでは、ある値より大きいか小さいかという命題だったがこれはそんなに単純ではない。\n",
    "\n",
    "**＝非線形**\n",
    "\n",
    "たとえば、[x1,x2, θ]=[0,0,0], [0,1,1], [1,0,1], [1,1,0]という組み合わせを今までの方法で作ることはできない。"
   ]
  },
  {
   "cell_type": "markdown",
   "metadata": {},
   "source": [
    "## 2.5 多層パーセプトロン"
   ]
  },
  {
   "cell_type": "code",
   "execution_count": 16,
   "metadata": {},
   "outputs": [],
   "source": [
    "# XORゲート(復習)\n",
    "\"\"\"\n",
    "0, 0 => 0\n",
    "1, 0 => 1\n",
    "0, 1 => 1\n",
    "1, 1 => 0\n",
    "\"\"\"\n",
    "\n",
    "# XORゲートは、1層のパーセプトロンでは実装不可能だが、2層のパーセプトロンによって実装できる。下記が実装例。\n",
    "def xor_gate(x1, x2):\n",
    "    s1 = nand_gate(x1, x2)\n",
    "    s2 = or_gate(x1, x2)\n",
    "    return and_gate(s1, s2)\n",
    "\n",
    "\n",
    "# - このようにゲートを組み合わせて層を重ねたものを多層パーセプトロンと呼ぶ。\n",
    "# - パーセプトロンは層を重ねることで柔軟な表現ができるようになる。\n"
   ]
  },
  {
   "cell_type": "markdown",
   "metadata": {},
   "source": [
    "## 2.6 NANDからコンピューターへ\n",
    "- パーセプトロンでNANDゲートを表現できる\n",
    "- NANDゲートでコンピュータを表現できる（詳細は不明：本を読み進めればわかるらしい）\n",
    "\n",
    "上記２点からパーセプトロンでコンピュータを表現できる（実際には多層パーセプトロンで表現するが理論的には２層パーセプトロンで可能）"
   ]
  },
  {
   "cell_type": "markdown",
   "metadata": {},
   "source": [
    "## 2.7 2章まとめ\n",
    "\n",
    "### パーセプトロンとは\n",
    "- パーセプトロンは、複数の入力から決まった出力を返すアルゴリズム\n",
    "- パーセプトロンでは、重みとバイアスをパラメーター(可変な部分)として設定する。\n",
    "\n",
    "### パーセプトロンで何ができるか\n",
    "- 単層パーセプトロンではAND、OR、NANDゲートを実装できるが、XORゲートは実装できない。\n",
    "- 2層のパーセプトロンを用いると、XORゲートを実装できる。\n",
    "- 多層パーセプトロンは単層パーセプトロンには出来ない非線形領域を表現でき、理論上コンピューターも作れる。"
   ]
  },
  {
   "cell_type": "code",
   "execution_count": null,
   "metadata": {},
   "outputs": [],
   "source": []
  }
 ],
 "metadata": {
  "kernelspec": {
   "display_name": "Python 3",
   "language": "python",
   "name": "python3"
  },
  "language_info": {
   "codemirror_mode": {
    "name": "ipython",
    "version": 3
   },
   "file_extension": ".py",
   "mimetype": "text/x-python",
   "name": "python",
   "nbconvert_exporter": "python",
   "pygments_lexer": "ipython3",
   "version": "3.7.0"
  }
 },
 "nbformat": 4,
 "nbformat_minor": 2
}
